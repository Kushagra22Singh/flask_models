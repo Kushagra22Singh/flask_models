{
 "cells": [
  {
   "cell_type": "code",
   "execution_count": 80,
   "id": "620eeb4c",
   "metadata": {},
   "outputs": [],
   "source": [
    "import numpy as np\n",
    "import matplotlib.pyplot as plt\n",
    "import pandas as pd\n",
    "\n",
    "df=pd.read_csv(\"Iris.csv\")"
   ]
  },
  {
   "cell_type": "code",
   "execution_count": 81,
   "id": "4c9dbf36",
   "metadata": {},
   "outputs": [
    {
     "data": {
      "text/html": [
       "<div>\n",
       "<style scoped>\n",
       "    .dataframe tbody tr th:only-of-type {\n",
       "        vertical-align: middle;\n",
       "    }\n",
       "\n",
       "    .dataframe tbody tr th {\n",
       "        vertical-align: top;\n",
       "    }\n",
       "\n",
       "    .dataframe thead th {\n",
       "        text-align: right;\n",
       "    }\n",
       "</style>\n",
       "<table border=\"1\" class=\"dataframe\">\n",
       "  <thead>\n",
       "    <tr style=\"text-align: right;\">\n",
       "      <th></th>\n",
       "      <th>SepalLengthCm</th>\n",
       "      <th>SepalWidthCm</th>\n",
       "      <th>PetalLengthCm</th>\n",
       "      <th>PetalWidthCm</th>\n",
       "      <th>Species</th>\n",
       "    </tr>\n",
       "  </thead>\n",
       "  <tbody>\n",
       "    <tr>\n",
       "      <th>0</th>\n",
       "      <td>5.1</td>\n",
       "      <td>3.5</td>\n",
       "      <td>1.4</td>\n",
       "      <td>0.2</td>\n",
       "      <td>0</td>\n",
       "    </tr>\n",
       "    <tr>\n",
       "      <th>1</th>\n",
       "      <td>4.9</td>\n",
       "      <td>3.0</td>\n",
       "      <td>1.4</td>\n",
       "      <td>0.2</td>\n",
       "      <td>0</td>\n",
       "    </tr>\n",
       "    <tr>\n",
       "      <th>2</th>\n",
       "      <td>4.7</td>\n",
       "      <td>3.2</td>\n",
       "      <td>1.3</td>\n",
       "      <td>0.2</td>\n",
       "      <td>0</td>\n",
       "    </tr>\n",
       "    <tr>\n",
       "      <th>3</th>\n",
       "      <td>4.6</td>\n",
       "      <td>3.1</td>\n",
       "      <td>1.5</td>\n",
       "      <td>0.2</td>\n",
       "      <td>0</td>\n",
       "    </tr>\n",
       "    <tr>\n",
       "      <th>4</th>\n",
       "      <td>5.0</td>\n",
       "      <td>3.6</td>\n",
       "      <td>1.4</td>\n",
       "      <td>0.2</td>\n",
       "      <td>0</td>\n",
       "    </tr>\n",
       "  </tbody>\n",
       "</table>\n",
       "</div>"
      ],
      "text/plain": [
       "   SepalLengthCm  SepalWidthCm  PetalLengthCm  PetalWidthCm  Species\n",
       "0            5.1           3.5            1.4           0.2        0\n",
       "1            4.9           3.0            1.4           0.2        0\n",
       "2            4.7           3.2            1.3           0.2        0\n",
       "3            4.6           3.1            1.5           0.2        0\n",
       "4            5.0           3.6            1.4           0.2        0"
      ]
     },
     "execution_count": 81,
     "metadata": {},
     "output_type": "execute_result"
    }
   ],
   "source": [
    "from sklearn.preprocessing import LabelEncoder\n",
    "le=LabelEncoder()\n",
    "df.Species=le.fit_transform(df.Species)\n",
    "\n",
    "df=df.drop('Id' , axis = 1)\n",
    "df.head()"
   ]
  },
  {
   "cell_type": "code",
   "execution_count": 82,
   "id": "a3e7985c",
   "metadata": {},
   "outputs": [],
   "source": [
    "X = df.drop('Species', axis=1)\n",
    "y = df['Species']"
   ]
  },
  {
   "cell_type": "code",
   "execution_count": 83,
   "id": "53da5d54",
   "metadata": {},
   "outputs": [
    {
     "data": {
      "text/plain": [
       "(150, 4)"
      ]
     },
     "execution_count": 83,
     "metadata": {},
     "output_type": "execute_result"
    }
   ],
   "source": [
    "X.shape"
   ]
  },
  {
   "cell_type": "code",
   "execution_count": 84,
   "id": "91cfcb42",
   "metadata": {},
   "outputs": [],
   "source": [
    "### applying scaling to the data\n",
    "\n",
    "from sklearn.preprocessing import StandardScaler\n",
    "\n",
    "# Initialize the StandardScaler\n",
    "scaler = StandardScaler()\n",
    "\n",
    "# Fit the scaler to your feature data (X) and transform it\n",
    "X = scaler.fit_transform(X)\n"
   ]
  },
  {
   "cell_type": "code",
   "execution_count": 85,
   "id": "65d5822d",
   "metadata": {},
   "outputs": [],
   "source": [
    "### train test split\n",
    "\n",
    "from sklearn.model_selection import train_test_split\n",
    "\n",
    "X_train,X_test,y_train,y_test=train_test_split(X,y,test_size=0.1)"
   ]
  },
  {
   "cell_type": "code",
   "execution_count": 86,
   "id": "44bc0bd9",
   "metadata": {},
   "outputs": [
    {
     "data": {
      "text/plain": [
       "(135, 4)"
      ]
     },
     "execution_count": 86,
     "metadata": {},
     "output_type": "execute_result"
    }
   ],
   "source": [
    "X_train.shape"
   ]
  },
  {
   "cell_type": "code",
   "execution_count": 87,
   "id": "f7582964",
   "metadata": {
    "scrolled": true
   },
   "outputs": [
    {
     "name": "stdout",
     "output_type": "stream",
     "text": [
      "Epoch 1/40\n",
      "5/5 [==============================] - 1s 4ms/step - loss: 1.0403 - accuracy: 0.4148\n",
      "Epoch 2/40\n",
      "5/5 [==============================] - 0s 3ms/step - loss: 0.8181 - accuracy: 0.7556\n",
      "Epoch 3/40\n",
      "5/5 [==============================] - 0s 3ms/step - loss: 0.6787 - accuracy: 0.7630\n",
      "Epoch 4/40\n",
      "5/5 [==============================] - 0s 4ms/step - loss: 0.5873 - accuracy: 0.7704\n",
      "Epoch 5/40\n",
      "5/5 [==============================] - 0s 4ms/step - loss: 0.5298 - accuracy: 0.7778\n",
      "Epoch 6/40\n",
      "5/5 [==============================] - 0s 4ms/step - loss: 0.4852 - accuracy: 0.7778\n",
      "Epoch 7/40\n",
      "5/5 [==============================] - 0s 3ms/step - loss: 0.4468 - accuracy: 0.8148\n",
      "Epoch 8/40\n",
      "5/5 [==============================] - 0s 4ms/step - loss: 0.4195 - accuracy: 0.8444\n",
      "Epoch 9/40\n",
      "5/5 [==============================] - 0s 4ms/step - loss: 0.3919 - accuracy: 0.8593\n",
      "Epoch 10/40\n",
      "5/5 [==============================] - 0s 4ms/step - loss: 0.3699 - accuracy: 0.8593\n",
      "Epoch 11/40\n",
      "5/5 [==============================] - 0s 3ms/step - loss: 0.3494 - accuracy: 0.8593\n",
      "Epoch 12/40\n",
      "5/5 [==============================] - 0s 3ms/step - loss: 0.3344 - accuracy: 0.8593\n",
      "Epoch 13/40\n",
      "5/5 [==============================] - 0s 3ms/step - loss: 0.3206 - accuracy: 0.8667\n",
      "Epoch 14/40\n",
      "5/5 [==============================] - 0s 3ms/step - loss: 0.3077 - accuracy: 0.8667\n",
      "Epoch 15/40\n",
      "5/5 [==============================] - 0s 4ms/step - loss: 0.2968 - accuracy: 0.8741\n",
      "Epoch 16/40\n",
      "5/5 [==============================] - 0s 3ms/step - loss: 0.2847 - accuracy: 0.8815\n",
      "Epoch 17/40\n",
      "5/5 [==============================] - 0s 4ms/step - loss: 0.2747 - accuracy: 0.8815\n",
      "Epoch 18/40\n",
      "5/5 [==============================] - 0s 4ms/step - loss: 0.2666 - accuracy: 0.8815\n",
      "Epoch 19/40\n",
      "5/5 [==============================] - 0s 5ms/step - loss: 0.2552 - accuracy: 0.8963\n",
      "Epoch 20/40\n",
      "5/5 [==============================] - 0s 4ms/step - loss: 0.2457 - accuracy: 0.8963\n",
      "Epoch 21/40\n",
      "5/5 [==============================] - 0s 4ms/step - loss: 0.2388 - accuracy: 0.8963\n",
      "Epoch 22/40\n",
      "5/5 [==============================] - 0s 3ms/step - loss: 0.2292 - accuracy: 0.9037\n",
      "Epoch 23/40\n",
      "5/5 [==============================] - 0s 3ms/step - loss: 0.2190 - accuracy: 0.9259\n",
      "Epoch 24/40\n",
      "5/5 [==============================] - 0s 3ms/step - loss: 0.2116 - accuracy: 0.9259\n",
      "Epoch 25/40\n",
      "5/5 [==============================] - 0s 3ms/step - loss: 0.2049 - accuracy: 0.9259\n",
      "Epoch 26/40\n",
      "5/5 [==============================] - 0s 4ms/step - loss: 0.1967 - accuracy: 0.9259\n",
      "Epoch 27/40\n",
      "5/5 [==============================] - 0s 3ms/step - loss: 0.1889 - accuracy: 0.9259\n",
      "Epoch 28/40\n",
      "5/5 [==============================] - 0s 3ms/step - loss: 0.1825 - accuracy: 0.9407\n",
      "Epoch 29/40\n",
      "5/5 [==============================] - 0s 3ms/step - loss: 0.1763 - accuracy: 0.9481\n",
      "Epoch 30/40\n",
      "5/5 [==============================] - 0s 3ms/step - loss: 0.1691 - accuracy: 0.9481\n",
      "Epoch 31/40\n",
      "5/5 [==============================] - 0s 4ms/step - loss: 0.1620 - accuracy: 0.9407\n",
      "Epoch 32/40\n",
      "5/5 [==============================] - 0s 4ms/step - loss: 0.1564 - accuracy: 0.9556\n",
      "Epoch 33/40\n",
      "5/5 [==============================] - 0s 3ms/step - loss: 0.1506 - accuracy: 0.9556\n",
      "Epoch 34/40\n",
      "5/5 [==============================] - 0s 12ms/step - loss: 0.1440 - accuracy: 0.9556\n",
      "Epoch 35/40\n",
      "5/5 [==============================] - 0s 4ms/step - loss: 0.1392 - accuracy: 0.9630\n",
      "Epoch 36/40\n",
      "5/5 [==============================] - 0s 4ms/step - loss: 0.1340 - accuracy: 0.9630\n",
      "Epoch 37/40\n",
      "5/5 [==============================] - 0s 3ms/step - loss: 0.1308 - accuracy: 0.9556\n",
      "Epoch 38/40\n",
      "5/5 [==============================] - 0s 3ms/step - loss: 0.1256 - accuracy: 0.9630\n",
      "Epoch 39/40\n",
      "5/5 [==============================] - 0s 3ms/step - loss: 0.1192 - accuracy: 0.9630\n",
      "Epoch 40/40\n",
      "5/5 [==============================] - 0s 3ms/step - loss: 0.1169 - accuracy: 0.9630\n"
     ]
    },
    {
     "data": {
      "text/plain": [
       "<keras.src.callbacks.History at 0x20fe665ae60>"
      ]
     },
     "execution_count": 87,
     "metadata": {},
     "output_type": "execute_result"
    }
   ],
   "source": [
    "### building a neural network\n",
    "\n",
    "import tensorflow as tf\n",
    "from tensorflow import keras\n",
    "\n",
    "model_N = keras.Sequential([\n",
    "    keras.layers.Dense(32, input_shape=(4,)),\n",
    "    keras.layers.Dense(128, activation='relu'),\n",
    "    keras.layers.Dense(3, activation='softmax')\n",
    "])\n",
    "\n",
    "model_N.compile(optimizer='adam',\n",
    "              loss='sparse_categorical_crossentropy',\n",
    "              metrics=['accuracy'])\n",
    "\n",
    "model_N.fit(X_train, y_train, epochs=40)"
   ]
  },
  {
   "cell_type": "code",
   "execution_count": 88,
   "id": "d10e04de",
   "metadata": {},
   "outputs": [
    {
     "data": {
      "text/plain": [
       "0.9333333333333333"
      ]
     },
     "execution_count": 88,
     "metadata": {},
     "output_type": "execute_result"
    }
   ],
   "source": [
    "### making the model with the linear regression\n",
    "\n",
    "from sklearn import linear_model\n",
    "model_LR=linear_model.LogisticRegression()\n",
    "\n",
    "model_LR.fit(X_train,y_train)\n",
    "model_LR.score(X_test,y_test)"
   ]
  },
  {
   "cell_type": "code",
   "execution_count": 89,
   "id": "3aebb2e5",
   "metadata": {},
   "outputs": [
    {
     "data": {
      "text/plain": [
       "1.0"
      ]
     },
     "execution_count": 89,
     "metadata": {},
     "output_type": "execute_result"
    }
   ],
   "source": [
    "### making the model with random forest classifier\n",
    "\n",
    "from sklearn.ensemble import RandomForestClassifier\n",
    "model_RFC=RandomForestClassifier()\n",
    "model_RFC.fit(X_train,y_train)\n",
    "model_RFC.score(X_test,y_test)"
   ]
  },
  {
   "cell_type": "code",
   "execution_count": 90,
   "id": "33241f46",
   "metadata": {},
   "outputs": [
    {
     "data": {
      "text/plain": [
       "1.0"
      ]
     },
     "execution_count": 90,
     "metadata": {},
     "output_type": "execute_result"
    }
   ],
   "source": [
    "### making the model with SVM\n",
    "\n",
    "from sklearn.svm import SVC\n",
    "model_svc=SVC()\n",
    "model_svc.fit(X_train,y_train)\n",
    "model_svc.score(X_test,y_test)"
   ]
  },
  {
   "cell_type": "code",
   "execution_count": 91,
   "id": "2cf7cbbc",
   "metadata": {},
   "outputs": [
    {
     "data": {
      "text/plain": [
       "0.9158125811135198"
      ]
     },
     "execution_count": 91,
     "metadata": {},
     "output_type": "execute_result"
    }
   ],
   "source": [
    "### applying lasso regression\n",
    "\n",
    "from sklearn import linear_model\n",
    "lasso_reg = linear_model.Lasso(alpha=0.01, max_iter=100, tol=0.1)  # Lower alpha value\n",
    "\n",
    "lasso_reg.fit(X_train,y_train)\n",
    "\n",
    "lasso_reg.score(X_test,y_test)"
   ]
  },
  {
   "cell_type": "code",
   "execution_count": 92,
   "id": "4561bb50",
   "metadata": {},
   "outputs": [
    {
     "data": {
      "text/plain": [
       "0.8690207412311068"
      ]
     },
     "execution_count": 92,
     "metadata": {},
     "output_type": "execute_result"
    }
   ],
   "source": [
    "### applying ridge regression\n",
    "\n",
    "from sklearn import linear_model\n",
    "ridge_reg=linear_model.Ridge(alpha=50,max_iter=100,tol=0.1)\n",
    "ridge_reg.fit(X_train,y_train)\n",
    "\n",
    "ridge_reg.score(X_test,y_test)"
   ]
  },
  {
   "cell_type": "code",
   "execution_count": 93,
   "id": "69b902e0",
   "metadata": {},
   "outputs": [
    {
     "data": {
      "text/plain": [
       "0.9236059212624971"
      ]
     },
     "execution_count": 93,
     "metadata": {},
     "output_type": "execute_result"
    }
   ],
   "source": [
    "lasso_reg.score(X_train,y_train)"
   ]
  },
  {
   "cell_type": "code",
   "execution_count": 94,
   "id": "42d8b399",
   "metadata": {},
   "outputs": [
    {
     "data": {
      "text/plain": [
       "0.9000511566778452"
      ]
     },
     "execution_count": 94,
     "metadata": {},
     "output_type": "execute_result"
    }
   ],
   "source": [
    "ridge_reg.score(X_train,y_train)"
   ]
  },
  {
   "cell_type": "code",
   "execution_count": 95,
   "id": "0d6d41ef",
   "metadata": {},
   "outputs": [],
   "source": [
    "import pickle\n",
    "pickle.dump(model_LR, open('model.pkl', 'wb'))"
   ]
  },
  {
   "cell_type": "code",
   "execution_count": 96,
   "id": "19a1830f",
   "metadata": {},
   "outputs": [],
   "source": [
    "pickled_model = pickle.load(open('model.pkl', 'rb'))"
   ]
  },
  {
   "cell_type": "code",
   "execution_count": null,
   "id": "e9f3c4b6",
   "metadata": {},
   "outputs": [],
   "source": []
  }
 ],
 "metadata": {
  "kernelspec": {
   "display_name": "Python 3 (ipykernel)",
   "language": "python",
   "name": "python3"
  },
  "language_info": {
   "codemirror_mode": {
    "name": "ipython",
    "version": 3
   },
   "file_extension": ".py",
   "mimetype": "text/x-python",
   "name": "python",
   "nbconvert_exporter": "python",
   "pygments_lexer": "ipython3",
   "version": "3.10.11"
  }
 },
 "nbformat": 4,
 "nbformat_minor": 5
}
